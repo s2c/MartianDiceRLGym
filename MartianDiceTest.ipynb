{
 "cells": [
  {
   "cell_type": "code",
   "execution_count": 1,
   "id": "c6042455-d16f-48cc-bb64-3a1cca9d3852",
   "metadata": {},
   "outputs": [],
   "source": [
    "import numpy as np \n",
    "import cv2 \n",
    "import matplotlib.pyplot as plt\n",
    "import PIL.Image as Image\n",
    "import gym\n",
    "import random\n",
    "\n",
    "from gym import Env, spaces\n",
    "import time\n",
    "\n",
    "font = cv2.FONT_HERSHEY_COMPLEX_SMALL "
   ]
  },
  {
   "cell_type": "code",
   "execution_count": 47,
   "id": "e91ee0da-8f73-439c-97d6-539eece2ba26",
   "metadata": {},
   "outputs": [],
   "source": [
    "def vec_translate(a, d):    \n",
    "    return np.vectorize(d.__getitem__)(a)\n",
    "\n",
    "def mDice(n=13):\n",
    "    '''\n",
    "    Rolls n martian dice, and returns the corresponding result\n",
    "    Martian Dice: 1,2 = Death Laser, 3=Human, 4=Cow, 5=Chicken, 6=Tank\n",
    "    Input= n, int number of dice\n",
    "    Output= n size list, result of roll in the form of the actual results. L=Death Laser, H=Human, R=Chicken, O=Cow, T=Tank\n",
    "    '''\n",
    "    roll = np.random.randint(1,7,n)\n",
    "    mMap = {1:'D',\n",
    "            2:'D',\n",
    "            3:'H',\n",
    "            4:'O',\n",
    "            5:'C',\n",
    "            6:'T'\n",
    "           }\n",
    "    return vec_translate(roll,mMap)\n",
    "\n",
    "\n",
    "def kidSuc(nTanks,nLasers):\n",
    "    '''\n",
    "    Checks if humans succesfully kidnapped the earthling\n",
    "    inputs: nTanks, number of tanks\n",
    "            nLasers, number of lasers\n",
    "    Outputs: kidnap boolean, True if captured else False\n",
    "    '''\n",
    "    if nTanks > nLasers:\n",
    "        return False\n",
    "    else:\n",
    "        return True\n",
    "    \n",
    "def _grabX(roll):\n",
    "    '''\n",
    "    Automatically grabs\n",
    "    input: roll, a list of the current roll with \n",
    "    '''\n",
    "    \n",
    "def grabTanks(roll):\n",
    "    '''\n",
    "    Automatically grabs any rolled tanks from the current roll\n",
    "    input: roll, a list of the current roll with \n",
    "    '''\n",
    "    nDice = len(roll)\n",
    "    tankRemoved = roll[roll != 'H']\n",
    "    nTanks = len(nDice)-len(tankRemoved)\n",
    "    \n",
    "    return tankRemoved\n",
    "    "
   ]
  },
  {
   "cell_type": "code",
   "execution_count": 34,
   "id": "f32bd366-2939-4ace-b950-462fa5045fbd",
   "metadata": {},
   "outputs": [],
   "source": [
    "roll = mDice(13)"
   ]
  },
  {
   "cell_type": "code",
   "execution_count": 45,
   "id": "f87c12c2-dd31-4f40-9b0a-0f204b473fa8",
   "metadata": {},
   "outputs": [
    {
     "data": {
      "text/plain": [
       "2"
      ]
     },
     "execution_count": 45,
     "metadata": {},
     "output_type": "execute_result"
    }
   ],
   "source": []
  }
 ],
 "metadata": {
  "kernelspec": {
   "display_name": "Python 3 (ipykernel)",
   "language": "python",
   "name": "python3"
  },
  "language_info": {
   "codemirror_mode": {
    "name": "ipython",
    "version": 3
   },
   "file_extension": ".py",
   "mimetype": "text/x-python",
   "name": "python",
   "nbconvert_exporter": "python",
   "pygments_lexer": "ipython3",
   "version": "3.9.7"
  }
 },
 "nbformat": 4,
 "nbformat_minor": 5
}
