{
 "cells": [
  {
   "cell_type": "code",
   "execution_count": 27,
   "id": "c6042455-d16f-48cc-bb64-3a1cca9d3852",
   "metadata": {},
   "outputs": [],
   "source": [
    "import numpy as np \n",
    "import cv2 \n",
    "import matplotlib.pyplot as plt\n",
    "import PIL.Image as Image\n",
    "import gym\n",
    "import random\n",
    "from collections import defaultdict\n",
    "\n",
    "from gym import Env, spaces\n",
    "import time\n",
    "\n",
    "font = cv2.FONT_HERSHEY_COMPLEX_SMALL "
   ]
  },
  {
   "cell_type": "code",
   "execution_count": 44,
   "id": "e91ee0da-8f73-439c-97d6-539eece2ba26",
   "metadata": {},
   "outputs": [],
   "source": [
    "def vec_translate(a, d):\n",
    "    '''\n",
    "    Translates \n",
    "    '''    \n",
    "    return np.vectorize(d.__getitem__)(a)\n",
    "\n",
    "def mDice(n=13):\n",
    "    '''\n",
    "    Rolls n martian dice, and returns the corresponding result\n",
    "    Martian Dice: 1,2 = Death Laser, 3=Human, 4=Cow, 5=Chicken, 6=Tank\n",
    "    Input= n, int number of dice\n",
    "    Output= n size list, result of roll in the form of the actual results. L=Death Laser, H=Human, C=Chicken, O=Cow, T=Tank\n",
    "    '''\n",
    "    roll = np.random.randint(1,7,n)\n",
    "    mMap = {1:'D',\n",
    "            2:'D',\n",
    "            3:'H',\n",
    "            4:'O',\n",
    "            5:'C',\n",
    "            6:'T'\n",
    "           }\n",
    "    return vec_translate(roll,mMap)\n",
    "\n",
    "\n",
    "def success(nTanks,nLasers):\n",
    "    '''\n",
    "    Checks if humans succesfully kidnapped the earthling\n",
    "    inputs: nTanks, number of tanks\n",
    "            nLasers, number of lasers\n",
    "    Outputs: kidnap boolean, True if captured else False\n",
    "    '''\n",
    "    if nTanks > nLasers:\n",
    "        return False\n",
    "    else:\n",
    "        return True\n",
    "    \n",
    "def grabX(roll,X):\n",
    "    '''\n",
    "    Automatically grabs X from the dice\n",
    "    input: roll, a list of the current roll  \n",
    "           X, a string that corresponds to the item to grab. Valid X is ['L'=Death Laser, 'H'=Human, 'C'=Chicken, 'O'=Cow, 'T'=Tank]\n",
    "    Output, grabbed, a list of the roll with the items removed\n",
    "            countX, a count of the number of items removed\n",
    "    '''\n",
    "    nDice = len(roll)\n",
    "    grabbed = roll[roll != X]\n",
    "    countX = nDice-len(grabbed)\n",
    "    \n",
    "    return grabbed,countX\n",
    "\n",
    "\n",
    "def calcScore(abducted,nTanks,nLasers):\n",
    "    '''\n",
    "    Calculates the score for the turn, if humans succesfully kidnapped the alients\n",
    "    inputed: abducted, a list of all abducted earthlings \n",
    "             nTanks, an integer number of tanks\n",
    "             nLasers, an integer number of lasers\n",
    "    output: the score for the turn\n",
    "    '''\n",
    "\n",
    "    abd = np.unique(abducted, return_counts=True)\n",
    "    abdCounts = defaultdict(lambda:0,zip(abd[0], abd[1]))\n",
    "    print(abdCounts)\n",
    "    hCount = abdCounts['H']\n",
    "    cCount = abdCounts['C']\n",
    "    oCount = abdCounts['O']\n",
    "    bonus = 0\n",
    "\n",
    "\n",
    "    if success(nTanks,nLasers):\n",
    "        if hCount > 0 and cCount>0 and oCount>0:\n",
    "            bonus=3 \n",
    "        print(bonus)\n",
    "        print(hCount,cCount,oCount)\n",
    "        curScore = bonus + hCount + cCount + oCount\n",
    "        return curScore\n",
    "    else:\n",
    "        return 0\n",
    "        \n",
    "    \n"
   ]
  },
  {
   "cell_type": "code",
   "execution_count": 56,
   "id": "f32bd366-2939-4ace-b950-462fa5045fbd",
   "metadata": {},
   "outputs": [
    {
     "name": "stdout",
     "output_type": "stream",
     "text": [
      "defaultdict(<function calcScore.<locals>.<lambda> at 0x00000246F5F3ED30>, {'D': 7, 'H': 1, 'O': 1, 'T': 4})\n",
      "0\n",
      "1 0 1\n"
     ]
    },
    {
     "data": {
      "text/plain": [
       "2"
      ]
     },
     "execution_count": 56,
     "metadata": {},
     "output_type": "execute_result"
    }
   ],
   "source": [
    "roll = mDice(13)\n",
    "calcScore(roll,3,5)"
   ]
  },
  {
   "cell_type": "code",
   "execution_count": 55,
   "id": "b7dafb18",
   "metadata": {},
   "outputs": [
    {
     "name": "stdout",
     "output_type": "stream",
     "text": [
      "defaultdict(<function calcScore.<locals>.<lambda> at 0x00000246F5F3EEE0>, {'C': 4, 'D': 4, 'H': 3, 'T': 2})\n",
      "0\n",
      "3 4 0\n"
     ]
    },
    {
     "data": {
      "text/plain": [
       "7"
      ]
     },
     "execution_count": 55,
     "metadata": {},
     "output_type": "execute_result"
    }
   ],
   "source": []
  },
  {
   "cell_type": "code",
   "execution_count": 43,
   "id": "f87c12c2-dd31-4f40-9b0a-0f204b473fa8",
   "metadata": {},
   "outputs": [
    {
     "data": {
      "text/plain": [
       "array(['T', 'D', 'C', 'O', 'D', 'C', 'C', 'D', 'T', 'C', 'C', 'D', 'H'],\n",
       "      dtype='<U1')"
      ]
     },
     "execution_count": 43,
     "metadata": {},
     "output_type": "execute_result"
    }
   ],
   "source": [
    "roll"
   ]
  },
  {
   "cell_type": "code",
   "execution_count": 36,
   "id": "4dfb4e47",
   "metadata": {},
   "outputs": [
    {
     "data": {
      "text/plain": [
       "defaultdict(<function __main__.<lambda>()>,\n",
       "            {'C': 3, 'D': 3, 'H': 3, 'O': 3, 'T': 1})"
      ]
     },
     "execution_count": 36,
     "metadata": {},
     "output_type": "execute_result"
    }
   ],
   "source": [
    "abdCounts"
   ]
  }
 ],
 "metadata": {
  "interpreter": {
   "hash": "f86eb972c4247ecba83078d7777e9dc8031b06030045bac3e2017168dc116227"
  },
  "kernelspec": {
   "display_name": "Julia 1.0.5",
   "language": "python",
   "name": "python3"
  },
  "language_info": {
   "codemirror_mode": {
    "name": "ipython",
    "version": 3
   },
   "file_extension": ".py",
   "mimetype": "text/x-python",
   "name": "python",
   "nbconvert_exporter": "python",
   "pygments_lexer": "ipython3",
   "version": "3.9.7"
  }
 },
 "nbformat": 4,
 "nbformat_minor": 5
}
