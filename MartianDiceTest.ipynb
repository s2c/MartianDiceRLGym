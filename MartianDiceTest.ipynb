{
 "cells": [
  {
   "cell_type": "code",
   "execution_count": 1,
   "id": "c6042455-d16f-48cc-bb64-3a1cca9d3852",
   "metadata": {},
   "outputs": [],
   "source": [
    "import numpy as np \n",
    "import cv2 \n",
    "import matplotlib.pyplot as plt\n",
    "import PIL.Image as Image\n",
    "import gym\n",
    "import random\n",
    "\n",
    "from gym import Env, spaces\n",
    "import time\n",
    "\n",
    "font = cv2.FONT_HERSHEY_COMPLEX_SMALL "
   ]
  },
  {
   "cell_type": "code",
   "execution_count": 5,
   "id": "e91ee0da-8f73-439c-97d6-539eece2ba26",
   "metadata": {},
   "outputs": [],
   "source": [
    "def vec_translate(a, d):    \n",
    "    return np.vectorize(d.__getitem__)(a)\n",
    "\n",
    "def mDice(n=13):\n",
    "    '''\n",
    "    Rolls n martian dice, and returns the corresponding result\n",
    "    Martian Dice: 1,2 = Death Laser, 3=Human, 4=Cow, 5=Chicken, 6=Tank\n",
    "    Input= n, int number of dice\n",
    "    Output= n size list, result of roll in the form of the actual results. L=Death Laser, H=Human, C=Chicken, O=Cow, T=Tank\n",
    "    '''\n",
    "    roll = np.random.randint(1,7,n)\n",
    "    mMap = {1:'D',\n",
    "            2:'D',\n",
    "            3:'H',\n",
    "            4:'O',\n",
    "            5:'C',\n",
    "            6:'T'\n",
    "           }\n",
    "    return vec_translate(roll,mMap)\n",
    "\n",
    "\n",
    "def success(nTanks,nLasers):\n",
    "    '''\n",
    "    Checks if humans succesfully kidnapped the earthling\n",
    "    inputs: nTanks, number of tanks\n",
    "            nLasers, number of lasers\n",
    "    Outputs: kidnap boolean, True if captured else False\n",
    "    '''\n",
    "    if nTanks > nLasers:\n",
    "        return False\n",
    "    else:\n",
    "        return True\n",
    "    \n",
    "def grabX(roll,X):\n",
    "    '''\n",
    "    Automatically grabs X from the dice\n",
    "    input: roll, a list of the current roll  \n",
    "           X, a string that corresponds to the item to grab. Valid X is ['L'=Death Laser, 'H'=Human, 'C'=Chicken, 'O'=Cow, 'T'=Tank]\n",
    "    Output, grabbed, a list of the roll with the items removed\n",
    "            countX, a count of the number of items removed\n",
    "    '''\n",
    "    nDice = len(roll)\n",
    "    grabbed = roll[roll != X]\n",
    "    countX = nDice-len(grabbed)\n",
    "    \n",
    "    return grabbed,countX\n",
    "\n",
    "\n",
    "def calcScore(abducted,nTanks,nLasers):\n",
    "    '''\n",
    "    Calculates the score for the turn, if humans succesfully kidnapped the alients\n",
    "    \n",
    "    '''\n",
    "\n",
    "\n",
    "    if success(nTanks,nLasers):\n",
    "        return 1\n",
    "        \n",
    "    \n"
   ]
  },
  {
   "cell_type": "code",
   "execution_count": 6,
   "id": "f32bd366-2939-4ace-b950-462fa5045fbd",
   "metadata": {},
   "outputs": [],
   "source": [
    "roll = mDice(13)"
   ]
  },
  {
   "cell_type": "code",
   "execution_count": 10,
   "id": "f87c12c2-dd31-4f40-9b0a-0f204b473fa8",
   "metadata": {},
   "outputs": [
    {
     "ename": "NameError",
     "evalue": "name 'words' is not defined",
     "output_type": "error",
     "traceback": [
      "\u001b[1;31m---------------------------------------------------------------------------\u001b[0m",
      "\u001b[1;31mNameError\u001b[0m                                 Traceback (most recent call last)",
      "\u001b[1;32m~\\AppData\\Local\\Temp/ipykernel_23404/4035266544.py\u001b[0m in \u001b[0;36m<module>\u001b[1;34m\u001b[0m\n\u001b[1;32m----> 1\u001b[1;33m \u001b[0mnp\u001b[0m\u001b[1;33m.\u001b[0m\u001b[0munique\u001b[0m\u001b[1;33m(\u001b[0m\u001b[0mwords\u001b[0m\u001b[1;33m,\u001b[0m \u001b[0mreturn_counts\u001b[0m\u001b[1;33m=\u001b[0m\u001b[1;32mTrue\u001b[0m\u001b[1;33m)\u001b[0m\u001b[1;33m\u001b[0m\u001b[1;33m\u001b[0m\u001b[0m\n\u001b[0m",
      "\u001b[1;31mNameError\u001b[0m: name 'words' is not defined"
     ]
    }
   ],
   "source": [
    "np.unique(words, return_counts=True)"
   ]
  },
  {
   "cell_type": "code",
   "execution_count": null,
   "id": "4dfb4e47",
   "metadata": {},
   "outputs": [],
   "source": []
  }
 ],
 "metadata": {
  "interpreter": {
   "hash": "f86eb972c4247ecba83078d7777e9dc8031b06030045bac3e2017168dc116227"
  },
  "kernelspec": {
   "display_name": "Julia 1.0.5",
   "language": "python",
   "name": "python3"
  },
  "language_info": {
   "codemirror_mode": {
    "name": "ipython",
    "version": 3
   },
   "file_extension": ".py",
   "mimetype": "text/x-python",
   "name": "python",
   "nbconvert_exporter": "python",
   "pygments_lexer": "ipython3",
   "version": "3.9.7"
  }
 },
 "nbformat": 4,
 "nbformat_minor": 5
}
